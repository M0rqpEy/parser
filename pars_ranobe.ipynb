{
 "cells": [
  {
   "cell_type": "code",
   "execution_count": 3,
   "id": "fb55d390",
   "metadata": {},
   "outputs": [
    {
     "data": {
      "text/plain": [
       "True"
      ]
     },
     "execution_count": 3,
     "metadata": {},
     "output_type": "execute_result"
    }
   ],
   "source": [
    "import os\n",
    "import re\n",
    "import time\n",
    "import pandas as pd\n",
    "import numpy as np\n",
    "from bs4 import BeautifulSoup\n",
    "from dotenv import load_dotenv\n",
    "from selenium import webdriver\n",
    "from selenium.webdriver.chrome.options import Options\n",
    "from selenium.webdriver.chrome.service import Service\n",
    "from selenium.webdriver.common.keys import Keys\n",
    "from selenium.webdriver.common.by import By\n",
    "from selenium.common.exceptions import NoSuchElementException\n",
    "\n",
    "\n",
    "load_dotenv()"
   ]
  },
  {
   "cell_type": "code",
   "execution_count": 13,
   "id": "70cdff99",
   "metadata": {},
   "outputs": [],
   "source": [
    "def get_driver():\n",
    "    path_to_driver = \"./chromedriver\"\n",
    "    chrome_service = Service(path_to_driver)\n",
    "    options = Options()\n",
    "#     options.add_argument(\"headless\")\n",
    "    return webdriver.Chrome(\n",
    "        service=chrome_service,\n",
    "        options=options\n",
    "    )\n",
    "\n",
    "\n",
    "def get_data_from_page(driver, id_team):\n",
    "    driver.get(f\"https://www.soccerstand.com/ru/match/{id_team}/#/match-summary\")\n",
    "    time.sleep(0.5)\n",
    "    element = driver.find_element(By.XPATH, \"//a[contains(text(), 'Таблица')]\")\n",
    "    element.click()\n",
    "    time.sleep(2)\n",
    "    \n",
    "    return driver.page_source\n",
    "\n",
    "\n",
    "def get_source(driver, url):\n",
    "    time.sleep(1)    \n",
    "    \n",
    "    driver.get(url)\n",
    "    time.sleep(1)    \n",
    "    return driver.page_source\n",
    "\n",
    "\n",
    "def get_some_parts(source):\n",
    "    soup = BeautifulSoup(source, 'html.parser')\n",
    "    \n",
    "    rez = (soup\n",
    "         .find_all('div', class_=re.compile(\"reader-container container container_center\"))\n",
    "        )\n",
    "    print(rez)\n",
    "    \n",
    "\n",
    "def login(driver, url):\n",
    "    email = os.getenv(\"RANOBE_EMAIL\")\n",
    "    password = os.getenv(\"RANOBE_PASS\")\n",
    "    driver.get(url)\n",
    "    \n",
    "    time.sleep(1)\n",
    "    email_field = driver.find_element(By.NAME, \"email\")\n",
    "    email_field.send_keys(email)\n",
    "    pass_field = driver.find_element(By.NAME, \"password\")\n",
    "    pass_field.send_keys(password)\n",
    "    pass_field.send_keys(Keys.RETURN)    \n",
    "    time.sleep(1)\n",
    "    return driver\n",
    "\n",
    "    \n",
    "def some_exp(driver):\n",
    "    # \n",
    " \n",
    "    \n",
    "    "
   ]
  },
  {
   "cell_type": "code",
   "execution_count": 16,
   "id": "e7d6bcd5",
   "metadata": {},
   "outputs": [],
   "source": [
    "def smt(url, url_to_login):\n",
    "    try:\n",
    "        driver = get_driver()\n",
    "        driver = login(driver, url_to_login)\n",
    "        some_exp(driver)\n",
    "#         source = get_source(driver, url)\n",
    "#         get_some_parts(source)\n",
    "    except NoSuchElementException:\n",
    "        print(\"shit\")\n",
    "    except (ValueError, IndexError):\n",
    "        print(\"shit\")\n",
    "        \n",
    "    finally:\n",
    "        driver.quit()\n",
    "    return\n",
    "    \n",
    "        \n",
    "\n",
    "def main():\n",
    "    url_to_login = \"https://lib.social/login\"\n",
    "    url = \"https://www.ranobelib.me/reverend-insanity/v4/c865?bid=11234&ui=1584248\"\n",
    "    a = smt(url, url_to_login)"
   ]
  },
  {
   "cell_type": "code",
   "execution_count": 15,
   "id": "5de7bd6d",
   "metadata": {},
   "outputs": [],
   "source": [
    "main()"
   ]
  },
  {
   "cell_type": "code",
   "execution_count": null,
   "id": "85d2715e",
   "metadata": {},
   "outputs": [],
   "source": [
    " "
   ]
  }
 ],
 "metadata": {
  "kernelspec": {
   "display_name": "Python 3 (ipykernel)",
   "language": "python",
   "name": "python3"
  },
  "language_info": {
   "codemirror_mode": {
    "name": "ipython",
    "version": 3
   },
   "file_extension": ".py",
   "mimetype": "text/x-python",
   "name": "python",
   "nbconvert_exporter": "python",
   "pygments_lexer": "ipython3",
   "version": "3.10.6"
  }
 },
 "nbformat": 4,
 "nbformat_minor": 5
}
