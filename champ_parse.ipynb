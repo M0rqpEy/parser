{
 "cells": [
  {
   "cell_type": "code",
   "execution_count": 164,
   "id": "33907ba0",
   "metadata": {},
   "outputs": [
    {
     "data": {
      "text/plain": [
       "True"
      ]
     },
     "execution_count": 164,
     "metadata": {},
     "output_type": "execute_result"
    }
   ],
   "source": [
    "import os\n",
    "\n",
    "import re\n",
    "import time\n",
    "import pandas as pd\n",
    "import numpy as np\n",
    "\n",
    "from dotenv import load_dotenv\n",
    "from bs4 import BeautifulSoup\n",
    "from selenium import webdriver\n",
    "from selenium.webdriver.chrome.options import Options\n",
    "from selenium.webdriver.chrome.service import Service\n",
    "from selenium.webdriver.common.keys import Keys\n",
    "from selenium.webdriver.common.by import By\n",
    "from selenium.common.exceptions import NoSuchElementException, ElementClickInterceptedException\n",
    "from selenium.webdriver import ActionChains\n",
    "\n",
    "load_dotenv()\n",
    "\n",
    "\n",
    "# ElementClickInterceptedException - неможна клацнуть по елементу\n",
    "# NoSuchElementException - такого елементу неіснує"
   ]
  },
  {
   "cell_type": "code",
   "execution_count": null,
   "id": "2ebcefcd",
   "metadata": {},
   "outputs": [],
   "source": [
    "# funcs\n",
    "\n",
    "def login(driver):\n",
    "    email = os.getenv(\"EMAIL\")\n",
    "    password = os.getenv(\"PASS\")\n",
    "    \n",
    "    \n",
    "    login_button = find_elems(driver, {\n",
    "                                        \"by_attr\": By.ID, \n",
    "                                        \"attr_data\": \"user-menu\",\n",
    "                                        \"attr_target\": \"div\"\n",
    "                                        }\n",
    "                                )[0]\n",
    "    login_button.click()\n",
    "    \n",
    "    \n",
    "    block_login_by = find_elems(driver, {\n",
    "                                        \"by_attr\": By.CLASS_NAME, \n",
    "                                        \"attr_data\": \"lsidDialog__section\",\n",
    "                                        }\n",
    "                               )\n",
    "    login_by_email = find_elems(block_login_by[0], {\n",
    "                                        \"by_attr\": By.TAG_NAME, \n",
    "                                        \"attr_data\": \"button\",\n",
    "                                        }\n",
    "                               )[-1]\n",
    "    login_by_email.click()\n",
    "    \n",
    "    block_inputs = find_elems(driver, {\n",
    "                                        \"by_attr\": By.CLASS_NAME, \n",
    "                                        \"attr_data\": \"lsidDialog__section\",\n",
    "                                        }\n",
    "                               )\n",
    "    input_fields = find_elems(block_inputs[0], {\n",
    "                                        \"by_attr\": By.TAG_NAME, \n",
    "                                        \"attr_data\": \"input\",\n",
    "                                        }\n",
    "                             )\n",
    "    time.sleep(1)\n",
    "    input_fields[0].send_keys(email)\n",
    "    input_fields[1].send_keys(password)\n",
    "    input_fields[1].send_keys(Keys.RETURN)  \n",
    "      \n",
    "    time.sleep(5)  # для закриття вспливаючого вікна\n",
    "    return driver\n",
    "\n",
    "\n",
    "def get_driver():\n",
    "    path_to_driver = \"./chromedriver\"\n",
    "    chrome_service = Service(path_to_driver)\n",
    "    options = Options()\n",
    "#     options.add_argument(\"headless\")\n",
    "    return webdriver.Chrome(\n",
    "        service=chrome_service,\n",
    "        options=options\n",
    "    )\n",
    "\n",
    "\n",
    "def close_cookies(driver):\n",
    "    \"\"\"\n",
    "    закриття вікна з підтвердження куків\n",
    "    \"\"\"\n",
    "    \n",
    "    elems = find_elems(driver, {\n",
    "                                \"by_attr\": By.ID, \n",
    "                                \"attr_data\": \"onetrust-accept-btn-handler\",\n",
    "                                }\n",
    "                      )\n",
    "    if not elems:\n",
    "        return driver\n",
    "    elems[0].click()\n",
    "    return driver\n",
    "    \n",
    "    \n",
    "def find_elems(target, args):\n",
    "    args_attr_data = args[\"attr_data\"]\n",
    "    if args[\"by_attr\"] == By.XPATH and args[\"by_text\"] is False:\n",
    "        attr_data =  f\"//{'attr_target'}[starts-with(@class, '{args_attr_data}')]\" \n",
    "    elif args[\"by_attr\"] == By.XPATH and args[\"by_text\"] is True:\n",
    "        attr_data =  f\"//{'attr_target'}[text()='{args_attr_data}']\"\n",
    "    else:\n",
    "        attr_data = args[\"attr_data\"]\n",
    "    \n",
    "    count = 0\n",
    "    while count <= 5:\n",
    "        try:\n",
    "            elements = target.find_elements(args[\"by_attr\"], attr_data)\n",
    "            if len(elements) == 0:\n",
    "                count += 1\n",
    "                continue\n",
    "            break\n",
    "        except NoSuchElementException:\n",
    "            time.sleep(1)\n",
    "            count += 1\n",
    "    \n",
    "    return elements"
   ]
  },
  {
   "cell_type": "code",
   "execution_count": 166,
   "id": "92946627",
   "metadata": {},
   "outputs": [
    {
     "name": "stdout",
     "output_type": "stream",
     "text": [
      "m0rqpEy@proton.me eYgFQnwv46HRTx\n"
     ]
    },
    {
     "ename": "RuntimeError",
     "evalue": "No active exception to reraise",
     "output_type": "error",
     "traceback": [
      "\u001b[0;31m---------------------------------------------------------------------------\u001b[0m",
      "\u001b[0;31mRuntimeError\u001b[0m                              Traceback (most recent call last)",
      "Cell \u001b[0;32mIn[166], line 11\u001b[0m\n\u001b[1;32m      7\u001b[0m     driver \u001b[38;5;241m=\u001b[39m login(driver)\n\u001b[1;32m     10\u001b[0m     time\u001b[38;5;241m.\u001b[39msleep(\u001b[38;5;241m5\u001b[39m)\n\u001b[0;32m---> 11\u001b[0m     \u001b[38;5;28;01mraise\u001b[39;00m\n\u001b[1;32m     12\u001b[0m \u001b[38;5;28;01mfinally\u001b[39;00m:\n\u001b[1;32m     13\u001b[0m     driver\u001b[38;5;241m.\u001b[39mquit()\n",
      "\u001b[0;31mRuntimeError\u001b[0m: No active exception to reraise"
     ]
    }
   ],
   "source": [
    "\n",
    "try:\n",
    "    url = \"https://www.soccerstand.com/ru/\"\n",
    "    driver = get_driver()\n",
    "    driver.get(url)\n",
    "    driver = close_cookies(driver)\n",
    "    \n",
    "    driver = login(driver)\n",
    "    \n",
    "    \n",
    "    time.sleep(5)\n",
    "    raise\n",
    "finally:\n",
    "    driver.quit()\n"
   ]
  },
  {
   "cell_type": "code",
   "execution_count": null,
   "id": "8158685d",
   "metadata": {},
   "outputs": [],
   "source": []
  }
 ],
 "metadata": {
  "kernelspec": {
   "display_name": "Python 3 (ipykernel)",
   "language": "python",
   "name": "python3"
  },
  "language_info": {
   "codemirror_mode": {
    "name": "ipython",
    "version": 3
   },
   "file_extension": ".py",
   "mimetype": "text/x-python",
   "name": "python",
   "nbconvert_exporter": "python",
   "pygments_lexer": "ipython3",
   "version": "3.10.6"
  }
 },
 "nbformat": 4,
 "nbformat_minor": 5
}
