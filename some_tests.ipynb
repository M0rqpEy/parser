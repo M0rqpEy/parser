{
 "cells": [
  {
   "cell_type": "code",
   "execution_count": 1,
   "id": "6591e5fa",
   "metadata": {},
   "outputs": [],
   "source": [
    "import re\n",
    "import time\n",
    "import requests as req\n",
    "import pandas as pd\n",
    "import numpy as np\n",
    "from bs4 import BeautifulSoup\n",
    "from selenium import webdriver\n",
    "from selenium.webdriver.chrome.options import Options\n",
    "from selenium.webdriver.chrome.service import Service\n",
    "from selenium.webdriver.common.keys import Keys\n",
    "from selenium.webdriver.common.by import By\n",
    "from selenium.common.exceptions import NoSuchElementException"
   ]
  },
  {
   "cell_type": "code",
   "execution_count": 21,
   "id": "055d652c",
   "metadata": {},
   "outputs": [
    {
     "data": {
      "text/plain": [
       "<Response [403]>"
      ]
     },
     "execution_count": 21,
     "metadata": {},
     "output_type": "execute_result"
    }
   ],
   "source": [
    "# s = req.Session()\n",
    "# s.get(\"https://ranobelib.me/\")\n",
    "# cookies = {\"remember_web_59ba36addc2b2f9401580f014c7f58ea4e30989d\" : \"eyJpdiI6IkJHaSs2T1BlbXQvVjd6UWdMNUxibXc9PSIsInZhbHVlIjoiaEI0UFYxSlBxN3c3OE5UaTRGaU9HKys1Wm1LNmN1azY4RUFjOXB1clRpODZMRVpjKyt4RHZDUzJ0ZGtDaEo2SDhjNkx0amtoOHR2L2N0bll6Njk5cmRNcmRieXN3Z1BKY25NMUhNTWUwOTl3SUNnWmFSNkxOdzVlL0xYVll6b29SbW1OY3pyNDF6UDBxTGNkaGNwejBJT0Qrd3Vmb1Jud3hVb0VCS2R2ZEsvK3pHMEttZXhYRjV4TEo3akQ3cUlKcTlZWXpxaHNIYjZ0aTlEUy9MbUlHK1JJQnFrOVQ2YTk3UkxwTHd4aHRoZz0iLCJtYWMiOiJhMDQ1YjZhOWJkNGQyYjA4Zjc0YTU4Yzg2MzU0Y2E4ZTdhZGUzNDY2NjFmYWVlYmYzYjMzMDFjODI2NzMwNWFkIiwidGFnIjoiIn0%3D\"}\n",
    "# a = req.get(\"https://ranobelib.me/reborn-as-a-transcendent/v1/c2\", cookies=cookies)"
   ]
  },
  {
   "cell_type": "code",
   "execution_count": 26,
   "id": "b1842125",
   "metadata": {},
   "outputs": [
    {
     "name": "stdout",
     "output_type": "stream",
     "text": [
      "<Response [419]>\n"
     ]
    }
   ],
   "source": [
    "URL = \"https://lib.social/login\"\n",
    "with req.Session() as s:\n",
    "    data = {\n",
    "     \n",
    "    }\n",
    "    resp = s.post(URL, data=data)\n",
    "    time.sleep(2)\n",
    "    print(resp)\n",
    "\n"
   ]
  },
  {
   "cell_type": "code",
   "execution_count": 8,
   "id": "81d564b9",
   "metadata": {},
   "outputs": [
    {
     "data": {
      "text/plain": [
       "['П', 'B', 'Н']"
      ]
     },
     "execution_count": 8,
     "metadata": {},
     "output_type": "execute_result"
    }
   ],
   "source": [
    "aa = BeautifulSoup(a)\n",
    "[x.text for x in aa.find_all('div', class_=re.compile(\"formIcon formIcon\")) ] "
   ]
  }
 ],
 "metadata": {
  "kernelspec": {
   "display_name": "Python 3 (ipykernel)",
   "language": "python",
   "name": "python3"
  },
  "language_info": {
   "codemirror_mode": {
    "name": "ipython",
    "version": 3
   },
   "file_extension": ".py",
   "mimetype": "text/x-python",
   "name": "python",
   "nbconvert_exporter": "python",
   "pygments_lexer": "ipython3",
   "version": "3.10.6"
  }
 },
 "nbformat": 4,
 "nbformat_minor": 5
}
